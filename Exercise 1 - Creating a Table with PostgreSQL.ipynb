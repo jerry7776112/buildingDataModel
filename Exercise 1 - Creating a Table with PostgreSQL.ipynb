{
 "cells": [
  {
   "cell_type": "markdown",
   "id": "735c5344",
   "metadata": {},
   "source": [
    "# Exercise 1 : Creating a Table with PostgreSQL"
   ]
  },
  {
   "cell_type": "code",
   "execution_count": 9,
   "id": "1e7fa1f6",
   "metadata": {},
   "outputs": [],
   "source": [
    "# pip install psycopg2"
   ]
  },
  {
   "cell_type": "markdown",
   "id": "c562debd",
   "metadata": {},
   "source": [
    "## Import the library"
   ]
  },
  {
   "cell_type": "code",
   "execution_count": 10,
   "id": "d617017f",
   "metadata": {},
   "outputs": [],
   "source": [
    "import psycopg2"
   ]
  },
  {
   "cell_type": "markdown",
   "id": "ded035f8",
   "metadata": {},
   "source": [
    "## Create a connection to the Database"
   ]
  },
  {
   "cell_type": "code",
   "execution_count": 11,
   "id": "fda60bb6",
   "metadata": {},
   "outputs": [],
   "source": [
    "try:\n",
    "    conn = psycopg2.connect(\"host=127.0.0.1 dbname=postgres user=postgres password=1234\")\n",
    "except psycopg2.Error as e:\n",
    "    print(\"Error: Could not make connection to the Posstgres database\")\n",
    "    print(e)"
   ]
  },
  {
   "cell_type": "markdown",
   "id": "4c25dc49",
   "metadata": {},
   "source": [
    "## Use the connection to get a cursor that can be used to execute queries"
   ]
  },
  {
   "cell_type": "code",
   "execution_count": 12,
   "id": "2f8279b8",
   "metadata": {},
   "outputs": [],
   "source": [
    "try:\n",
    "    cur = conn.cursor()\n",
    "except psycopg2.Error as e:\n",
    "    print(\"Error: Could not get cursor to the Database\")\n",
    "    print(e)"
   ]
  },
  {
   "cell_type": "markdown",
   "id": "a147a176",
   "metadata": {},
   "source": [
    "## Set automatic commit to be true so that each action is commit conn.commit() after each command."
   ]
  },
  {
   "cell_type": "code",
   "execution_count": 13,
   "id": "697bffd0",
   "metadata": {},
   "outputs": [],
   "source": [
    "conn.set_session(autocommit=True)"
   ]
  },
  {
   "cell_type": "markdown",
   "id": "bd723004",
   "metadata": {},
   "source": [
    "## Create a database to do the work in"
   ]
  },
  {
   "cell_type": "code",
   "execution_count": 14,
   "id": "b534b7b8",
   "metadata": {},
   "outputs": [],
   "source": [
    "try:\n",
    "    cur.execute(\"CREATE DATABASE myfirstdb\")\n",
    "except psycopg2.Error as e:\n",
    "    print(e)"
   ]
  },
  {
   "cell_type": "markdown",
   "id": "17a9d7a8",
   "metadata": {},
   "source": [
    "## Add the database name in the connect statement. Let's close our connection to the default database, reconnect to the Udacity database, and get a new cursor."
   ]
  },
  {
   "cell_type": "code",
   "execution_count": 15,
   "id": "9a19b785",
   "metadata": {},
   "outputs": [],
   "source": [
    "try:\n",
    "    conn.close()\n",
    "except psycopg2.Error as e:\n",
    "    print(e)\n",
    "\n",
    "try:\n",
    "    conn = psycopg2.connect(\"host=127.0.0.1 dbname=myfirstdb user=postgres password=1234\")\n",
    "except psycopg2.Error as e:\n",
    "    print(\"Error: Could not make connection to the Posstgres database\")\n",
    "    print(e)\n",
    "try:\n",
    "    cur = conn.cursor()\n",
    "except psycopg2.Error as e:\n",
    "    print(\"Error: Could not get cursor to the Database\")\n",
    "    print(e)\n",
    "\n",
    "conn.set_session(autocommit=True)"
   ]
  },
  {
   "cell_type": "markdown",
   "id": "08b47066",
   "metadata": {},
   "source": [
    "## Create Table for students which includes below columns"
   ]
  },
  {
   "cell_type": "markdown",
   "id": "dee19c7b",
   "metadata": {},
   "source": [
    "student_id - int\n",
    "name - varchar\n",
    "age - int\n",
    "gender - varchar\n",
    "subject - varchar\n",
    "marks - int"
   ]
  },
  {
   "cell_type": "code",
   "execution_count": 16,
   "id": "bb8998b4",
   "metadata": {},
   "outputs": [],
   "source": [
    "try:\n",
    "    cur.execute(\"CREATE TABLE IF NOT EXISTS students (student_id int, name varchar, age int, gender varchar, subject varchar, marks int);\")\n",
    "except psycopg2.Error as e:\n",
    "    print(\"Error: Issue creating table\")\n",
    "    print(e)"
   ]
  },
  {
   "cell_type": "markdown",
   "id": "92018ed9",
   "metadata": {},
   "source": [
    "## Insert the following two rows in the table"
   ]
  },
  {
   "cell_type": "markdown",
   "id": "cf529661",
   "metadata": {},
   "source": [
    "First Row: 1, \"Raj\", 23, \"Male\", \"Python\", 85\n",
    "Second row:2, \"Linda\", 22, \"Female\", \"Python\", 86"
   ]
  },
  {
   "cell_type": "code",
   "execution_count": 19,
   "id": "9b70cdd6",
   "metadata": {},
   "outputs": [],
   "source": [
    "try:\n",
    "    cur.execute(\"INSERT INTO students (student_id, name, age, gender, subject, marks) \\\n",
    "                VALUES (%s, %s, %s, %s, %s, %s)\", \\\n",
    "               (1, \"Raj\", 23, \"Male\", \"Python\", 85))\n",
    "except psycopg2.Error as e:\n",
    "    print(\"Error: Inserting Rows\")\n",
    "    print(e)\n",
    "\n",
    "try:\n",
    "    cur.execute(\"INSERT INTO students (student_id, name, age, gender, subject, marks) \\\n",
    "                VALUES (%s, %s, %s, %s, %s, %s)\", \\\n",
    "               (2, \"Linda\", 22, \"Female\", \"Python\", 86))\n",
    "except psycopg2.Error as e:\n",
    "    print(\"Error: Inserting Rows\")\n",
    "    print(e)"
   ]
  },
  {
   "cell_type": "markdown",
   "id": "9d6cf307",
   "metadata": {},
   "source": [
    "## Validate your data was inserted into the table"
   ]
  },
  {
   "cell_type": "code",
   "execution_count": 20,
   "id": "73ec5748",
   "metadata": {},
   "outputs": [
    {
     "name": "stdout",
     "output_type": "stream",
     "text": [
      "(1, 'Raj', 23, 'Male', 'Python', 85)\n",
      "(2, 'Linda', 22, 'Female', 'Python', 86)\n"
     ]
    }
   ],
   "source": [
    "try:\n",
    "    cur.execute(\"SELECT * FROM students;\")\n",
    "except psycopg2.Error as e:\n",
    "    print(\"Error: select *\")\n",
    "    print(e)\n",
    "row = cur.fetchone()\n",
    "while row:\n",
    "    print(row)\n",
    "    row = cur.fetchone()"
   ]
  },
  {
   "cell_type": "markdown",
   "id": "9dddafc6",
   "metadata": {},
   "source": [
    "## Finally close your cursor and connection"
   ]
  },
  {
   "cell_type": "code",
   "execution_count": 21,
   "id": "06ca454d",
   "metadata": {},
   "outputs": [],
   "source": [
    "cur.close()\n",
    "conn.close()"
   ]
  }
 ],
 "metadata": {
  "kernelspec": {
   "display_name": "Python 3 (ipykernel)",
   "language": "python",
   "name": "python3"
  },
  "language_info": {
   "codemirror_mode": {
    "name": "ipython",
    "version": 3
   },
   "file_extension": ".py",
   "mimetype": "text/x-python",
   "name": "python",
   "nbconvert_exporter": "python",
   "pygments_lexer": "ipython3",
   "version": "3.9.16"
  }
 },
 "nbformat": 4,
 "nbformat_minor": 5
}
